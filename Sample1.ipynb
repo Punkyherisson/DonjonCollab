{
  "nbformat": 4,
  "nbformat_minor": 0,
  "metadata": {
    "colab": {
      "provenance": [],
      "toc_visible": true,
      "authorship_tag": "ABX9TyPgyg1Vg0mibcAeIqzB8fsG",
      "include_colab_link": true
    },
    "kernelspec": {
      "name": "python3",
      "display_name": "Python 3"
    },
    "language_info": {
      "name": "python"
    }
  },
  "cells": [
    {
      "cell_type": "markdown",
      "metadata": {
        "id": "view-in-github",
        "colab_type": "text"
      },
      "source": [
        "<a href=\"https://colab.research.google.com/github/Punkyherisson/DonjonCollab/blob/main/Sample1.ipynb\" target=\"_parent\"><img src=\"https://colab.research.google.com/assets/colab-badge.svg\" alt=\"Open In Colab\"/></a>"
      ]
    },
    {
      "cell_type": "markdown",
      "source": [
        "ceci est un essai en python"
      ],
      "metadata": {
        "id": "uTlOgeuzOhJU"
      }
    },
    {
      "cell_type": "code",
      "execution_count": null,
      "metadata": {
        "colab": {
          "base_uri": "https://localhost:8080/"
        },
        "id": "kdDvrvBlOOXE",
        "outputId": "a49b061c-ad5a-41cc-9101-898be281f4f4"
      },
      "outputs": [
        {
          "output_type": "stream",
          "name": "stdout",
          "text": [
            "hello\n",
            "nom Manu\n",
            "bonjour maitre\n"
          ]
        }
      ],
      "source": [
        "# Essai de code sur tablette\n",
        "print(\"hello\")\n",
        "reponse=input(\"nom \")\n",
        "if reponse.upper() == \"MANU\":\n",
        "  print(\"bonjour maitre\")\n",
        "else:\n",
        "  print(\"bonjour\")"
      ]
    }
  ]
}