{
  "nbformat": 4,
  "nbformat_minor": 0,
  "metadata": {
    "colab": {
      "provenance": []
    },
    "kernelspec": {
      "name": "python3",
      "display_name": "Python 3"
    },
    "language_info": {
      "name": "python"
    }
  },
  "cells": [
    {
      "cell_type": "markdown",
      "source": [
        "Jeu de Donjon avec Collab NoteBook (Version 0.1)"
      ],
      "metadata": {
        "id": "uZMoNAxXXjP-"
      }
    },
    {
      "cell_type": "code",
      "execution_count": 3,
      "metadata": {
        "colab": {
          "base_uri": "https://localhost:8080/"
        },
        "id": "R7ERxYOCXiF2",
        "outputId": "f147089a-6117-4899-97f5-eb42c2e7a254"
      },
      "outputs": [
        {
          "output_type": "stream",
          "name": "stdout",
          "text": [
            "Donner Nom PersonnagePapa\n",
            "Classe du Personnage (G)uerrier, (P)aladin, (B)arbare, (D)ruide, (V)oleur ou (M)ageG\n",
            "***************************************************************\n",
            " Vous pouvez repartir 18 points entre (F)orce, (H)abileté, (E)ndurance, (I)ntelligence, (S)agesse et (C)harisme\n",
            " Minimum 1 et Maximum 5 par attribut\n",
            "***************************************************************\n",
            "Force (de 1 à 5): 3\n",
            "Habilete (de 1 à 5): 5\n",
            "Endurance (de 1 à 5): 5\n",
            "Intelligence (de 1 à 5): 5\n",
            "Sagesse (de 1 à 5): 5\n",
            "Charisme (de 1 à 5): 5\n",
            "Total des caractéristiques est 28. Il doit être égal à 18. Veuillez réessayer.\n",
            "Force (de 1 à 5): 5\n",
            "Habilete (de 1 à 5): 5\n",
            "Endurance (de 1 à 5): 5\n",
            "Intelligence (de 1 à 5): 5\n",
            "Sagesse (de 1 à 5): 5\n",
            "Charisme (de 1 à 5): 5\n",
            "Total des caractéristiques est 30. Il doit être égal à 18. Veuillez réessayer.\n",
            "Force (de 1 à 5): 5\n",
            "Habilete (de 1 à 5): 3\n",
            "Endurance (de 1 à 5): 3\n",
            "Intelligence (de 1 à 5): 3\n",
            "Sagesse (de 1 à 5): 1\n",
            "Charisme (de 1 à 5): 1\n",
            "Total des caractéristiques est 16. Il doit être égal à 18. Veuillez réessayer.\n",
            "Force (de 1 à 5): 5\n",
            "Habilete (de 1 à 5): 3\n",
            "Endurance (de 1 à 5): 3\n",
            "Intelligence (de 1 à 5): 3\n",
            "Sagesse (de 1 à 5): 2\n",
            "Charisme (de 1 à 5): 2\n",
            "\n",
            "Répartition des points:\n",
            "Force: 5\n",
            "Habilete: 3\n",
            "Endurance: 3\n",
            "Intelligence: 3\n",
            "Sagesse: 2\n",
            "Charisme: 2\n"
          ]
        }
      ],
      "source": [
        "#creation du personnage\n",
        "nom=input(\"Donner Nom Personnage\")\n",
        "metier = \"\" # Initialize metier\n",
        "while metier.upper() not in [\"G\",\"P\",\"B\",\"D\",\"V\",\"M\"]:\n",
        "  metier=input(\"Classe du Personnage (G)uerrier, (P)aladin, (B)arbare, (D)ruide, (V)oleur ou (M)age\")\n",
        "print(\"***************************************************************\")\n",
        "print(\" Vous pouvez repartir 18 points entre (F)orce, (H)abileté, (E)ndurance, (I)ntelligence, (S)agesse et (C)harisme\")\n",
        "print(\" Minimum 1 et Maximum 5 par attribut\")\n",
        "print(\"***************************************************************\")\n",
        "#Initialisation\n",
        "Force=3\n",
        "Habilete=3\n",
        "Endurance=3\n",
        "Intelligence=3\n",
        "Sagesse=3\n",
        "Charisme=3\n",
        "totalCaracteristiques=0\n",
        "\n",
        "while totalCaracteristiques!=18:\n",
        "  Force = 0\n",
        "  while Force < 1 or Force > 5:\n",
        "    try:\n",
        "      Force=int(input(\"Force (de 1 à 5): \"))\n",
        "    except ValueError:\n",
        "      print(\"Veuillez entrer un nombre entier.\")\n",
        "\n",
        "  Habilete = 0\n",
        "  while Habilete < 1 or Habilete > 5:\n",
        "    try:\n",
        "      Habilete=int(input(\"Habilete (de 1 à 5): \"))\n",
        "    except ValueError:\n",
        "      print(\"Veuillez entrer un nombre entier.\")\n",
        "\n",
        "  Endurance = 0\n",
        "  while Endurance < 1 or Endurance > 5:\n",
        "    try:\n",
        "      Endurance=int(input(\"Endurance (de 1 à 5): \"))\n",
        "    except ValueError:\n",
        "      print(\"Veuillez entrer un nombre entier.\")\n",
        "\n",
        "  Intelligence = 0\n",
        "  while Intelligence < 1 or Intelligence > 5:\n",
        "    try:\n",
        "      Intelligence=int(input(\"Intelligence (de 1 à 5): \"))\n",
        "    except ValueError:\n",
        "      print(\"Veuillez entrer un nombre entier.\")\n",
        "\n",
        "  Sagesse = 0 # Reset to 0 to enter inner loop\n",
        "  while Sagesse < 1 or Sagesse > 5:\n",
        "    try:\n",
        "      Sagesse=int(input(\"Sagesse (de 1 à 5): \"))\n",
        "    except ValueError:\n",
        "      print(\"Veuillez entrer un nombre entier.\")\n",
        "\n",
        "  Charisme = 0 # Reset to 0 to enter inner loop\n",
        "  while Charisme < 1 or Charisme > 5:\n",
        "    try:\n",
        "      Charisme=int(input(\"Charisme (de 1 à 5): \"))\n",
        "    except ValueError:\n",
        "      print(\"Veuillez entrer un nombre entier.\")\n",
        "\n",
        "  totalCaracteristiques=Force+Habilete+Endurance+Intelligence+Sagesse+Charisme\n",
        "  if totalCaracteristiques != 18:\n",
        "    print(f\"Total des caractéristiques est {totalCaracteristiques}. Il doit être égal à 18. Veuillez réessayer.\")\n",
        "\n",
        "print(\"\\nRépartition des points:\")\n",
        "print(f\"Force: {Force}\")\n",
        "print(f\"Habilete: {Habilete}\")\n",
        "print(f\"Endurance: {Endurance}\")\n",
        "print(f\"Intelligence: {Intelligence}\")\n",
        "print(f\"Sagesse: {Sagesse}\")\n",
        "print(f\"Charisme: {Charisme}\")"
      ]
    }
  ]
}