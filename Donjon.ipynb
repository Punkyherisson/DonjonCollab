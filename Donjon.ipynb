{
  "nbformat": 4,
  "nbformat_minor": 0,
  "metadata": {
    "colab": {
      "provenance": [],
      "authorship_tag": "ABX9TyNdI84oBhhG31IDzZjAkttR",
      "include_colab_link": true
    },
    "kernelspec": {
      "name": "python3",
      "display_name": "Python 3"
    },
    "language_info": {
      "name": "python"
    }
  },
  "cells": [
    {
      "cell_type": "markdown",
      "metadata": {
        "id": "view-in-github",
        "colab_type": "text"
      },
      "source": [
        "<a href=\"https://colab.research.google.com/github/Punkyherisson/DonjonCollab/blob/main/Donjon.ipynb\" target=\"_parent\"><img src=\"https://colab.research.google.com/assets/colab-badge.svg\" alt=\"Open In Colab\"/></a>"
      ]
    },
    {
      "cell_type": "markdown",
      "source": [
        "Jeu de Donjon avec Collab NoteBook (Version 0.1)"
      ],
      "metadata": {
        "id": "uZMoNAxXXjP-"
      }
    },
    {
      "cell_type": "code",
      "execution_count": 5,
      "metadata": {
        "id": "R7ERxYOCXiF2",
        "colab": {
          "base_uri": "https://localhost:8080/"
        },
        "outputId": "c63444c4-d572-43f6-9cb8-709271361abc"
      },
      "outputs": [
        {
          "name": "stdout",
          "output_type": "stream",
          "text": [
            "Donner Nom Personnage Manu\n",
            "Classe du Personnage (G)uerrier, (P)aladin, (B)arbare, (D)ruide, (V)oleur ou (M)ageG\n",
            "***************************************************************\n",
            " Vous pouvez repartir 18 points entre (F)orce, (H)abileté, (E)ndurance, (I)ntelligence, (S)agesse et (C)harisme\n",
            " Minimum 1 et Maximum 5 par attribut\n",
            "***************************************************************\n",
            "Force (de 1 à 5): 5\n",
            "Habilete (de 1 à 5): 5\n",
            "Endurance (de 1 à 5): 5\n",
            "Intelligence (de 1 à 5): 1\n",
            "Sagesse (de 1 à 5): 1\n",
            "Charisme (de 1 à 5): 1\n"
          ]
        }
      ],
      "source": [
        "#creation du personnage\n",
        "nom=input(\"Donner Nom Personnage \")\n",
        "metier = \"\"\n",
        "while metier.upper() not in [\"G\",\"P\",\"B\",\"D\",\"V\",\"M\"]:\n",
        "  metier=input(\"Classe du Personnage (G)uerrier, (P)aladin, (B)arbare, (D)ruide, (V)oleur ou (M)age\")\n",
        "print(\"***************************************************************\")\n",
        "print(\" Vous pouvez repartir 18 points entre (F)orce, (H)abileté, (E)ndurance, (I)ntelligence, (S)agesse et (C)harisme\")\n",
        "print(\" Minimum 1 et Maximum 5 par attribut\")\n",
        "print(\"***************************************************************\")\n",
        "\n",
        "#Initialisation\n",
        "Force=3\n",
        "Habilete=3\n",
        "Endurance=3\n",
        "Intelligence=3\n",
        "Sagesse=3\n",
        "Charisme=3\n",
        "totalCaracteristiques=0\n",
        "\n",
        "while totalCaracteristiques!=18:\n",
        "  Force = 0\n",
        "  while Force < 1 or Force > 5:\n",
        "    try:\n",
        "      Force=int(input(\"Force (de 1 à 5): \"))\n",
        "    except ValueError:\n",
        "      print(\"Veuillez entrer un nombre entier.\")\n",
        "\n",
        "  Habilete = 0\n",
        "  while Habilete < 1 or Habilete > 5:\n",
        "    try:\n",
        "      Habilete=int(input(\"Habilete (de 1 à 5): \"))\n",
        "    except ValueError:\n",
        "      print(\"Veuillez entrer un nombre entier.\")\n",
        "\n",
        "  Endurance = 0\n",
        "  while Endurance < 1 or Endurance > 5:\n",
        "    try:\n",
        "      Endurance=int(input(\"Endurance (de 1 à 5): \"))\n",
        "    except ValueError:\n",
        "      print(\"Veuillez entrer un nombre entier.\")\n",
        "\n",
        "  Intelligence = 0\n",
        "  while Intelligence < 1 or Intelligence > 5:\n",
        "    try:\n",
        "      Intelligence=int(input(\"Intelligence (de 1 à 5): \"))\n",
        "    except ValueError:\n",
        "      print(\"Veuillez entrer un nombre entier.\")\n",
        "\n",
        "  Sagesse = 0 # Reset to 0 to enter inner loop\n",
        "  while Sagesse < 1 or Sagesse > 5:\n",
        "    try:\n",
        "      Sagesse=int(input(\"Sagesse (de 1 à 5): \"))\n",
        "    except ValueError:\n",
        "      print(\"Veuillez entrer un nombre entier.\")\n",
        "\n",
        "  Charisme = 0 # Reset to 0 to enter inner loop\n",
        "  while Charisme < 1 or Charisme > 5:\n",
        "    try:\n",
        "      Charisme=int(input(\"Charisme (de 1 à 5): \"))\n",
        "    except ValueError:\n",
        "      print(\"Veuillez entrer un nombre entier.\")\n",
        "\n",
        "  totalCaracteristiques=Force+Habilete+Endurance+Intelligence+Sagesse+Charisme\n",
        "  if totalCaracteristiques != 18:\n",
        "    print(f\"Total des caractéristiques est {totalCaracteristiques}. Il doit être égal à 18. Veuillez réessayer.\")\n",
        "\n",
        "\n"
      ]
    },
    {
      "cell_type": "code",
      "source": [
        "#sauvegarde dans un fichier\n",
        "import json\n",
        "sauvegarde = {\n",
        "    \"Nom\": nom,\n",
        "    \"Metier\": metier,\n",
        "    \"Force\": Force,\n",
        "    \"Habilete\": Habilete,\n",
        "    \"Endurance\": Endurance,\n",
        "    \"Intelligence\": Intelligence,\n",
        "    \"Sagesse\": Sagesse,\n",
        "    \"Charisme\": Charisme\n",
        "}\n",
        "\n",
        "with open(\"sauvegarde.json\", \"w\") as fichier:\n",
        "    json.dump(sauvegarde, fichier)\n",
        "    print(\"Sauvegarde réussie !\")\n",
        "    print(\"***************************************************************\")\n",
        "    print(f\"Nom du Personnage: {nom}\")\n",
        "    print(f\"Metier du Personnage: {metier}\")\n",
        "\n"
      ],
      "metadata": {
        "colab": {
          "base_uri": "https://localhost:8080/"
        },
        "id": "0DA8JuTbLQLz",
        "outputId": "b714749d-28a4-417b-9c19-d54d3e0b31d4"
      },
      "execution_count": 6,
      "outputs": [
        {
          "output_type": "stream",
          "name": "stdout",
          "text": [
            "Sauvegarde réussie !\n",
            "***************************************************************\n",
            "Nom du Personnage: Manu\n",
            "Metier du Personnage: G\n"
          ]
        }
      ]
    },
    {
      "cell_type": "code",
      "source": [
        "def bonusForce(metier):\n",
        "  #il faut rendre la variable locale globale sinon ca ne marche pas\n",
        "  global Force\n",
        "  if metier.upper()==\"G\" or metier.upper()==\"P\":\n",
        "    Force=Force+2\n",
        "  elif metier.upper()==\"B\" or metier.upper()==\"D\":\n",
        "    Force=Force+4\n",
        "  elif metier.upper()==\"V\" or metier.upper()==\"M\":\n",
        "    Force=Force+0\n",
        "  return Force\n",
        "\n",
        "def bonusIntelligence(metier):\n",
        "  if metier.upper()==\"G\" or metier.upper()==\"B\":\n",
        "    Intel=0\n",
        "  elif metier.upper()==\"P\" or metier.upper()==\"V\":\n",
        "    Intel=1\n",
        "  elif metier.upper()==\"D\" or metier.upper()==\"M\":\n",
        "    Intel=3\n",
        "  return Intel\n",
        "\n",
        "print(\"\\nRépartition des points avant Bonus de metier:\")\n",
        "print(f\"Force: {Force}\")\n",
        "print(f\"Habilete: {Habilete}\")\n",
        "print(f\"Endurance: {Endurance}\")\n",
        "print(f\"Intelligence: {Intelligence}\")\n",
        "print(f\"Sagesse: {Sagesse}\")\n",
        "print(f\"Charisme: {Charisme}\")\n",
        "\n",
        "Force=Force + bonusForce(metier)\n",
        "Intelligence= Intelligence + bonusIntelligence(metier)\n",
        "\n",
        "print(\"\\nRépartition des points APRES Bonus de metier:\")\n",
        "print(f\"Force: {Force}\")\n",
        "print(f\"Habilete: {Habilete}\")\n",
        "print(f\"Endurance: {Endurance}\")\n",
        "print(f\"Intelligence: {Intelligence}\")\n",
        "print(f\"Sagesse: {Sagesse}\")\n",
        "print(f\"Charisme: {Charisme}\")\n",
        "\n",
        "\n"
      ],
      "metadata": {
        "id": "Pjt-eZQGO2ce"
      },
      "execution_count": null,
      "outputs": []
    },
    {
      "cell_type": "code",
      "source": [
        "#Combat\n",
        "import random\n",
        "\n",
        "def valeurCombat(reponse):\n",
        "  if reponse.upper() == \"G\":\n",
        "    vieMonstre=100\n",
        "  elif reponse.upper() == \"H\":\n",
        "    vieMonstre=150\n",
        "  elif reponse.upper() == \"T\":\n",
        "    vieMonstre=200\n",
        "  return vieMonstre\n",
        "\n",
        "\n",
        "def fightMonster(monster):\n",
        "  print(\"***************************************************************\")\n",
        "  print(f\"Vous avez choisi de combattre un {monster}\")\n",
        "  vieMonstre=valeurCombat(monster)\n",
        "  vieJoueur=(Endurance*2+int(Force/1.5)+int(Habilete/2))*8\n",
        "  print(f\"Votre vie est de {vieJoueur} points\")\n",
        "  print(f\"Celle du monstre est de {vieMonstre}\")\n",
        "  while vieMonstre > 0 and vieJoueur > 0:\n",
        "    print(f\"Vie du Monstre: {vieMonstre}\")\n",
        "    print(f\"Vie du Joueur: {vieJoueur}\")\n",
        "    initiativeJoueur=random.randint(1,2+Habilete)\n",
        "    initiativeMonstre=random.randint(1,6)\n",
        "    print(f\"Votre initiative est de {initiativeJoueur}\")\n",
        "    print(f\"L'initiative du Monstre est de {initiativeMonstre}\")\n",
        "    if initiativeJoueur > initiativeMonstre:\n",
        "      degatsJoueur=random.randint(1,6+Force)\n",
        "      vieMonstre-=degatsJoueur\n",
        "      print(f\"Vous avez infligé {degatsJoueur} points de dégats au Monstre\")\n",
        "      if vieMonstre <= 0:\n",
        "        print(\"Vous avez vaincu le Monstre\")\n",
        "        break\n",
        "    else:\n",
        "      degatsMonstre=random.randint(1,8)\n",
        "      vieJoueur-=degatsMonstre\n",
        "      print(f\"Le Monstre a infligé {degatsMonstre} points de dégats au Joueur\")\n",
        "      if vieJoueur <= 0:\n",
        "        print(\"Le Monstre a vaincu vous\")\n",
        "        break\n",
        "\n",
        "\n",
        "reponse=input(\"Voulez vous combattre un (G)obelin, un (H)obgoblin ou un (T)roll\")\n",
        "while reponse.upper() not in [\"G\",\"H\",\"T\"]:\n",
        "  reponse=input(\"Voulez vous combattre un (G)obelin, un (H)obgoblin ou un (T)roll\")\n",
        "valeurCombat(reponse)\n",
        "fightMonster(reponse)\n",
        "\n",
        "\n"
      ],
      "metadata": {
        "id": "4KgQKEleIGQJ"
      },
      "execution_count": null,
      "outputs": []
    }
  ]
}